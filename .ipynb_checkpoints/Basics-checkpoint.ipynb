{
 "cells": [
  {
   "cell_type": "code",
   "execution_count": 1,
   "metadata": {
    "collapsed": true
   },
   "outputs": [],
   "source": [
    "%matplotlib inline\n",
    "import sqlite3\n",
    "import pandas as pd\n",
    "import matplotlib.pyplot as plt"
   ]
  },
  {
   "cell_type": "code",
   "execution_count": 2,
   "metadata": {
    "collapsed": true
   },
   "outputs": [],
   "source": [
    "def run_query(q):\n",
    "    with sqlite3.connect('chinook.db') as conn:\n",
    "        return pd.read_sql(q, conn)\n",
    "def run_command(c):\n",
    "    with sqlite3.connect('chinook.db') as conn:\n",
    "        conn.isolation_level = None\n",
    "        conn.execute(c)\n",
    "def show_tables():\n",
    "    q = 'SELECT name, type FROM sqlite_master WHERE type in (\"table\", \"view\");'\n",
    "    return run_query(q)"
   ]
  },
  {
   "cell_type": "code",
   "execution_count": 3,
   "metadata": {
    "collapsed": false
   },
   "outputs": [
    {
     "data": {
      "text/html": [
       "<div>\n",
       "<style scoped>\n",
       "    .dataframe tbody tr th:only-of-type {\n",
       "        vertical-align: middle;\n",
       "    }\n",
       "\n",
       "    .dataframe tbody tr th {\n",
       "        vertical-align: top;\n",
       "    }\n",
       "\n",
       "    .dataframe thead th {\n",
       "        text-align: right;\n",
       "    }\n",
       "</style>\n",
       "<table border=\"1\" class=\"dataframe\">\n",
       "  <thead>\n",
       "    <tr style=\"text-align: right;\">\n",
       "      <th></th>\n",
       "      <th>name</th>\n",
       "      <th>type</th>\n",
       "    </tr>\n",
       "  </thead>\n",
       "  <tbody>\n",
       "    <tr>\n",
       "      <th>0</th>\n",
       "      <td>album</td>\n",
       "      <td>table</td>\n",
       "    </tr>\n",
       "    <tr>\n",
       "      <th>1</th>\n",
       "      <td>artist</td>\n",
       "      <td>table</td>\n",
       "    </tr>\n",
       "    <tr>\n",
       "      <th>2</th>\n",
       "      <td>customer</td>\n",
       "      <td>table</td>\n",
       "    </tr>\n",
       "    <tr>\n",
       "      <th>3</th>\n",
       "      <td>employee</td>\n",
       "      <td>table</td>\n",
       "    </tr>\n",
       "    <tr>\n",
       "      <th>4</th>\n",
       "      <td>genre</td>\n",
       "      <td>table</td>\n",
       "    </tr>\n",
       "    <tr>\n",
       "      <th>5</th>\n",
       "      <td>invoice</td>\n",
       "      <td>table</td>\n",
       "    </tr>\n",
       "    <tr>\n",
       "      <th>6</th>\n",
       "      <td>invoice_line</td>\n",
       "      <td>table</td>\n",
       "    </tr>\n",
       "    <tr>\n",
       "      <th>7</th>\n",
       "      <td>media_type</td>\n",
       "      <td>table</td>\n",
       "    </tr>\n",
       "    <tr>\n",
       "      <th>8</th>\n",
       "      <td>playlist</td>\n",
       "      <td>table</td>\n",
       "    </tr>\n",
       "    <tr>\n",
       "      <th>9</th>\n",
       "      <td>playlist_track</td>\n",
       "      <td>table</td>\n",
       "    </tr>\n",
       "    <tr>\n",
       "      <th>10</th>\n",
       "      <td>track</td>\n",
       "      <td>table</td>\n",
       "    </tr>\n",
       "    <tr>\n",
       "      <th>11</th>\n",
       "      <td>invoice_us</td>\n",
       "      <td>view</td>\n",
       "    </tr>\n",
       "    <tr>\n",
       "      <th>12</th>\n",
       "      <td>total_tracks</td>\n",
       "      <td>view</td>\n",
       "    </tr>\n",
       "    <tr>\n",
       "      <th>13</th>\n",
       "      <td>invoice_line_us</td>\n",
       "      <td>view</td>\n",
       "    </tr>\n",
       "    <tr>\n",
       "      <th>14</th>\n",
       "      <td>total_tracks_us</td>\n",
       "      <td>view</td>\n",
       "    </tr>\n",
       "  </tbody>\n",
       "</table>\n",
       "</div>"
      ],
      "text/plain": [
       "               name   type\n",
       "0             album  table\n",
       "1            artist  table\n",
       "2          customer  table\n",
       "3          employee  table\n",
       "4             genre  table\n",
       "5           invoice  table\n",
       "6      invoice_line  table\n",
       "7        media_type  table\n",
       "8          playlist  table\n",
       "9    playlist_track  table\n",
       "10            track  table\n",
       "11       invoice_us   view\n",
       "12     total_tracks   view\n",
       "13  invoice_line_us   view\n",
       "14  total_tracks_us   view"
      ]
     },
     "execution_count": 3,
     "metadata": {},
     "output_type": "execute_result"
    }
   ],
   "source": [
    "show_tables()"
   ]
  },
  {
   "cell_type": "markdown",
   "metadata": {
    "collapsed": true
   },
   "source": [
    "## Analyzing music purchases in the US"
   ]
  },
  {
   "cell_type": "markdown",
   "metadata": {},
   "source": [
    "**Select invoices from the USA**"
   ]
  },
  {
   "cell_type": "code",
   "execution_count": 4,
   "metadata": {
    "collapsed": true
   },
   "outputs": [],
   "source": [
    "run_command('DROP VIEW invoice_line_us')\n",
    "invoice_us_command = '''\n",
    "CREATE VIEW invoice_line_us AS \n",
    "    SELECT \n",
    "        il.* FROM invoice_line il \n",
    "    INNER JOIN invoice i ON il.invoice_id=i.invoice_id \n",
    "    WHERE i.billing_country=\"USA\"\n",
    "'''\n",
    "run_command(invoice_us_command)"
   ]
  },
  {
   "cell_type": "code",
   "execution_count": 5,
   "metadata": {
    "collapsed": false
   },
   "outputs": [
    {
     "data": {
      "text/html": [
       "<div>\n",
       "<style scoped>\n",
       "    .dataframe tbody tr th:only-of-type {\n",
       "        vertical-align: middle;\n",
       "    }\n",
       "\n",
       "    .dataframe tbody tr th {\n",
       "        vertical-align: top;\n",
       "    }\n",
       "\n",
       "    .dataframe thead th {\n",
       "        text-align: right;\n",
       "    }\n",
       "</style>\n",
       "<table border=\"1\" class=\"dataframe\">\n",
       "  <thead>\n",
       "    <tr style=\"text-align: right;\">\n",
       "      <th></th>\n",
       "      <th>invoice_line_id</th>\n",
       "      <th>invoice_id</th>\n",
       "      <th>track_id</th>\n",
       "      <th>unit_price</th>\n",
       "      <th>quantity</th>\n",
       "    </tr>\n",
       "  </thead>\n",
       "  <tbody>\n",
       "    <tr>\n",
       "      <th>0</th>\n",
       "      <td>1</td>\n",
       "      <td>1</td>\n",
       "      <td>1158</td>\n",
       "      <td>0.99</td>\n",
       "      <td>1</td>\n",
       "    </tr>\n",
       "    <tr>\n",
       "      <th>1</th>\n",
       "      <td>2</td>\n",
       "      <td>1</td>\n",
       "      <td>1159</td>\n",
       "      <td>0.99</td>\n",
       "      <td>1</td>\n",
       "    </tr>\n",
       "    <tr>\n",
       "      <th>2</th>\n",
       "      <td>3</td>\n",
       "      <td>1</td>\n",
       "      <td>1160</td>\n",
       "      <td>0.99</td>\n",
       "      <td>1</td>\n",
       "    </tr>\n",
       "    <tr>\n",
       "      <th>3</th>\n",
       "      <td>4</td>\n",
       "      <td>1</td>\n",
       "      <td>1161</td>\n",
       "      <td>0.99</td>\n",
       "      <td>1</td>\n",
       "    </tr>\n",
       "    <tr>\n",
       "      <th>4</th>\n",
       "      <td>5</td>\n",
       "      <td>1</td>\n",
       "      <td>1162</td>\n",
       "      <td>0.99</td>\n",
       "      <td>1</td>\n",
       "    </tr>\n",
       "    <tr>\n",
       "      <th>5</th>\n",
       "      <td>6</td>\n",
       "      <td>1</td>\n",
       "      <td>1163</td>\n",
       "      <td>0.99</td>\n",
       "      <td>1</td>\n",
       "    </tr>\n",
       "    <tr>\n",
       "      <th>6</th>\n",
       "      <td>7</td>\n",
       "      <td>1</td>\n",
       "      <td>1164</td>\n",
       "      <td>0.99</td>\n",
       "      <td>1</td>\n",
       "    </tr>\n",
       "    <tr>\n",
       "      <th>7</th>\n",
       "      <td>8</td>\n",
       "      <td>1</td>\n",
       "      <td>1165</td>\n",
       "      <td>0.99</td>\n",
       "      <td>1</td>\n",
       "    </tr>\n",
       "    <tr>\n",
       "      <th>8</th>\n",
       "      <td>9</td>\n",
       "      <td>1</td>\n",
       "      <td>1166</td>\n",
       "      <td>0.99</td>\n",
       "      <td>1</td>\n",
       "    </tr>\n",
       "    <tr>\n",
       "      <th>9</th>\n",
       "      <td>10</td>\n",
       "      <td>1</td>\n",
       "      <td>1167</td>\n",
       "      <td>0.99</td>\n",
       "      <td>1</td>\n",
       "    </tr>\n",
       "  </tbody>\n",
       "</table>\n",
       "</div>"
      ],
      "text/plain": [
       "   invoice_line_id  invoice_id  track_id  unit_price  quantity\n",
       "0                1           1      1158        0.99         1\n",
       "1                2           1      1159        0.99         1\n",
       "2                3           1      1160        0.99         1\n",
       "3                4           1      1161        0.99         1\n",
       "4                5           1      1162        0.99         1\n",
       "5                6           1      1163        0.99         1\n",
       "6                7           1      1164        0.99         1\n",
       "7                8           1      1165        0.99         1\n",
       "8                9           1      1166        0.99         1\n",
       "9               10           1      1167        0.99         1"
      ]
     },
     "execution_count": 5,
     "metadata": {},
     "output_type": "execute_result"
    }
   ],
   "source": [
    "run_query('SELECT * FROM invoice_line_us LIMIT 10')"
   ]
  },
  {
   "cell_type": "markdown",
   "metadata": {},
   "source": [
    "**Compute total number of tracks sold worldwide and in the USA**"
   ]
  },
  {
   "cell_type": "code",
   "execution_count": 34,
   "metadata": {
    "collapsed": false
   },
   "outputs": [],
   "source": [
    "run_command('DROP VIEW total_tracks')\n",
    "total_tracks_command = \"CREATE VIEW total_tracks AS SELECT SUM(quantity) total_tracks_sold FROM invoice_line\"\n",
    "run_command(total_tracks_command)"
   ]
  },
  {
   "cell_type": "code",
   "execution_count": 7,
   "metadata": {
    "collapsed": false
   },
   "outputs": [
    {
     "data": {
      "text/html": [
       "<div>\n",
       "<style scoped>\n",
       "    .dataframe tbody tr th:only-of-type {\n",
       "        vertical-align: middle;\n",
       "    }\n",
       "\n",
       "    .dataframe tbody tr th {\n",
       "        vertical-align: top;\n",
       "    }\n",
       "\n",
       "    .dataframe thead th {\n",
       "        text-align: right;\n",
       "    }\n",
       "</style>\n",
       "<table border=\"1\" class=\"dataframe\">\n",
       "  <thead>\n",
       "    <tr style=\"text-align: right;\">\n",
       "      <th></th>\n",
       "      <th>total_tracks_sold</th>\n",
       "    </tr>\n",
       "  </thead>\n",
       "  <tbody>\n",
       "    <tr>\n",
       "      <th>0</th>\n",
       "      <td>4757</td>\n",
       "    </tr>\n",
       "  </tbody>\n",
       "</table>\n",
       "</div>"
      ],
      "text/plain": [
       "   total_tracks_sold\n",
       "0               4757"
      ]
     },
     "execution_count": 7,
     "metadata": {},
     "output_type": "execute_result"
    }
   ],
   "source": [
    "run_query('SELECT * FROM total_tracks')"
   ]
  },
  {
   "cell_type": "code",
   "execution_count": 35,
   "metadata": {
    "collapsed": true
   },
   "outputs": [],
   "source": [
    "run_command('DROP VIEW total_tracks_us')\n",
    "total_tracks_us_command = '''\n",
    "CREATE VIEW total_tracks_us AS \n",
    "    SELECT \n",
    "        SUM(quantity) total_tracks_sold_us \n",
    "    FROM invoice_line_us\n",
    "'''\n",
    "run_command(total_tracks_us_command)"
   ]
  },
  {
   "cell_type": "code",
   "execution_count": 9,
   "metadata": {
    "collapsed": false
   },
   "outputs": [
    {
     "data": {
      "text/html": [
       "<div>\n",
       "<style scoped>\n",
       "    .dataframe tbody tr th:only-of-type {\n",
       "        vertical-align: middle;\n",
       "    }\n",
       "\n",
       "    .dataframe tbody tr th {\n",
       "        vertical-align: top;\n",
       "    }\n",
       "\n",
       "    .dataframe thead th {\n",
       "        text-align: right;\n",
       "    }\n",
       "</style>\n",
       "<table border=\"1\" class=\"dataframe\">\n",
       "  <thead>\n",
       "    <tr style=\"text-align: right;\">\n",
       "      <th></th>\n",
       "      <th>total_tracks_sold_us</th>\n",
       "    </tr>\n",
       "  </thead>\n",
       "  <tbody>\n",
       "    <tr>\n",
       "      <th>0</th>\n",
       "      <td>1051</td>\n",
       "    </tr>\n",
       "  </tbody>\n",
       "</table>\n",
       "</div>"
      ],
      "text/plain": [
       "   total_tracks_sold_us\n",
       "0                  1051"
      ]
     },
     "execution_count": 9,
     "metadata": {},
     "output_type": "execute_result"
    }
   ],
   "source": [
    "run_query('SELECT * FROM total_tracks_us LIMIT 10')"
   ]
  },
  {
   "cell_type": "markdown",
   "metadata": {},
   "source": [
    "**Generate table of highest selling genres in the US and plot the results**"
   ]
  },
  {
   "cell_type": "code",
   "execution_count": 19,
   "metadata": {
    "collapsed": false
   },
   "outputs": [
    {
     "data": {
      "text/html": [
       "<div>\n",
       "<style scoped>\n",
       "    .dataframe tbody tr th:only-of-type {\n",
       "        vertical-align: middle;\n",
       "    }\n",
       "\n",
       "    .dataframe tbody tr th {\n",
       "        vertical-align: top;\n",
       "    }\n",
       "\n",
       "    .dataframe thead th {\n",
       "        text-align: right;\n",
       "    }\n",
       "</style>\n",
       "<table border=\"1\" class=\"dataframe\">\n",
       "  <thead>\n",
       "    <tr style=\"text-align: right;\">\n",
       "      <th></th>\n",
       "      <th>genre</th>\n",
       "      <th>tracks_sold</th>\n",
       "      <th>tracks_sold_percent</th>\n",
       "    </tr>\n",
       "  </thead>\n",
       "  <tbody>\n",
       "    <tr>\n",
       "      <th>0</th>\n",
       "      <td>Bossa Nova</td>\n",
       "      <td>NaN</td>\n",
       "      <td>NaN</td>\n",
       "    </tr>\n",
       "    <tr>\n",
       "      <th>1</th>\n",
       "      <td>Comedy</td>\n",
       "      <td>NaN</td>\n",
       "      <td>NaN</td>\n",
       "    </tr>\n",
       "    <tr>\n",
       "      <th>2</th>\n",
       "      <td>Drama</td>\n",
       "      <td>NaN</td>\n",
       "      <td>NaN</td>\n",
       "    </tr>\n",
       "    <tr>\n",
       "      <th>3</th>\n",
       "      <td>Opera</td>\n",
       "      <td>NaN</td>\n",
       "      <td>NaN</td>\n",
       "    </tr>\n",
       "    <tr>\n",
       "      <th>4</th>\n",
       "      <td>Rock And Roll</td>\n",
       "      <td>NaN</td>\n",
       "      <td>NaN</td>\n",
       "    </tr>\n",
       "    <tr>\n",
       "      <th>5</th>\n",
       "      <td>Sci Fi &amp; Fantasy</td>\n",
       "      <td>NaN</td>\n",
       "      <td>NaN</td>\n",
       "    </tr>\n",
       "    <tr>\n",
       "      <th>6</th>\n",
       "      <td>Science Fiction</td>\n",
       "      <td>NaN</td>\n",
       "      <td>NaN</td>\n",
       "    </tr>\n",
       "    <tr>\n",
       "      <th>7</th>\n",
       "      <td>World</td>\n",
       "      <td>NaN</td>\n",
       "      <td>NaN</td>\n",
       "    </tr>\n",
       "    <tr>\n",
       "      <th>8</th>\n",
       "      <td>TV Shows</td>\n",
       "      <td>1.0</td>\n",
       "      <td>0.095147</td>\n",
       "    </tr>\n",
       "    <tr>\n",
       "      <th>9</th>\n",
       "      <td>Soundtrack</td>\n",
       "      <td>2.0</td>\n",
       "      <td>0.190295</td>\n",
       "    </tr>\n",
       "    <tr>\n",
       "      <th>10</th>\n",
       "      <td>Heavy Metal</td>\n",
       "      <td>3.0</td>\n",
       "      <td>0.285442</td>\n",
       "    </tr>\n",
       "    <tr>\n",
       "      <th>11</th>\n",
       "      <td>Classical</td>\n",
       "      <td>4.0</td>\n",
       "      <td>0.380590</td>\n",
       "    </tr>\n",
       "    <tr>\n",
       "      <th>12</th>\n",
       "      <td>Electronica/Dance</td>\n",
       "      <td>5.0</td>\n",
       "      <td>0.475737</td>\n",
       "    </tr>\n",
       "    <tr>\n",
       "      <th>13</th>\n",
       "      <td>Reggae</td>\n",
       "      <td>6.0</td>\n",
       "      <td>0.570885</td>\n",
       "    </tr>\n",
       "    <tr>\n",
       "      <th>14</th>\n",
       "      <td>Easy Listening</td>\n",
       "      <td>13.0</td>\n",
       "      <td>1.236917</td>\n",
       "    </tr>\n",
       "    <tr>\n",
       "      <th>15</th>\n",
       "      <td>Jazz</td>\n",
       "      <td>14.0</td>\n",
       "      <td>1.332065</td>\n",
       "    </tr>\n",
       "    <tr>\n",
       "      <th>16</th>\n",
       "      <td>Hip Hop/Rap</td>\n",
       "      <td>20.0</td>\n",
       "      <td>1.902950</td>\n",
       "    </tr>\n",
       "    <tr>\n",
       "      <th>17</th>\n",
       "      <td>Latin</td>\n",
       "      <td>22.0</td>\n",
       "      <td>2.093245</td>\n",
       "    </tr>\n",
       "    <tr>\n",
       "      <th>18</th>\n",
       "      <td>Pop</td>\n",
       "      <td>22.0</td>\n",
       "      <td>2.093245</td>\n",
       "    </tr>\n",
       "    <tr>\n",
       "      <th>19</th>\n",
       "      <td>Alternative</td>\n",
       "      <td>35.0</td>\n",
       "      <td>3.330162</td>\n",
       "    </tr>\n",
       "    <tr>\n",
       "      <th>20</th>\n",
       "      <td>Blues</td>\n",
       "      <td>36.0</td>\n",
       "      <td>3.425309</td>\n",
       "    </tr>\n",
       "    <tr>\n",
       "      <th>21</th>\n",
       "      <td>R&amp;B/Soul</td>\n",
       "      <td>53.0</td>\n",
       "      <td>5.042816</td>\n",
       "    </tr>\n",
       "    <tr>\n",
       "      <th>22</th>\n",
       "      <td>Metal</td>\n",
       "      <td>124.0</td>\n",
       "      <td>11.798287</td>\n",
       "    </tr>\n",
       "    <tr>\n",
       "      <th>23</th>\n",
       "      <td>Alternative &amp; Punk</td>\n",
       "      <td>130.0</td>\n",
       "      <td>12.369172</td>\n",
       "    </tr>\n",
       "    <tr>\n",
       "      <th>24</th>\n",
       "      <td>Rock</td>\n",
       "      <td>561.0</td>\n",
       "      <td>53.377735</td>\n",
       "    </tr>\n",
       "  </tbody>\n",
       "</table>\n",
       "</div>"
      ],
      "text/plain": [
       "                 genre  tracks_sold  tracks_sold_percent\n",
       "0           Bossa Nova          NaN                  NaN\n",
       "1               Comedy          NaN                  NaN\n",
       "2                Drama          NaN                  NaN\n",
       "3                Opera          NaN                  NaN\n",
       "4        Rock And Roll          NaN                  NaN\n",
       "5     Sci Fi & Fantasy          NaN                  NaN\n",
       "6      Science Fiction          NaN                  NaN\n",
       "7                World          NaN                  NaN\n",
       "8             TV Shows          1.0             0.095147\n",
       "9           Soundtrack          2.0             0.190295\n",
       "10         Heavy Metal          3.0             0.285442\n",
       "11           Classical          4.0             0.380590\n",
       "12   Electronica/Dance          5.0             0.475737\n",
       "13              Reggae          6.0             0.570885\n",
       "14      Easy Listening         13.0             1.236917\n",
       "15                Jazz         14.0             1.332065\n",
       "16         Hip Hop/Rap         20.0             1.902950\n",
       "17               Latin         22.0             2.093245\n",
       "18                 Pop         22.0             2.093245\n",
       "19         Alternative         35.0             3.330162\n",
       "20               Blues         36.0             3.425309\n",
       "21            R&B/Soul         53.0             5.042816\n",
       "22               Metal        124.0            11.798287\n",
       "23  Alternative & Punk        130.0            12.369172\n",
       "24                Rock        561.0            53.377735"
      ]
     },
     "execution_count": 19,
     "metadata": {},
     "output_type": "execute_result"
    }
   ],
   "source": [
    "genre_query = '''\n",
    "WITH total_tracks_sold\n",
    "AS \n",
    "    (SELECT SUM(quantity) FROM invoice_line_us)\n",
    "\n",
    "SELECT \n",
    "    g.name AS genre, \n",
    "    SUM(il.quantity) AS tracks_sold, \n",
    "    CAST(100*SUM(il.quantity) as Float)/total_tracks_sold AS tracks_sold_percent \n",
    "    FROM genre g \n",
    "    LEFT JOIN track t ON g.genre_id=t.genre_id \n",
    "    LEFT JOIN invoice_line_us il ON t.track_id=il.track_id \n",
    "    GROUP BY 1 \n",
    "    ORDER BY 3 ASC\n",
    "'''\n",
    "top_genre_us = run_query(genre_query)\n",
    "top_genre_us"
   ]
  },
  {
   "cell_type": "code",
   "execution_count": 20,
   "metadata": {
    "collapsed": false
   },
   "outputs": [
    {
     "data": {
      "text/html": [
       "<div>\n",
       "<style scoped>\n",
       "    .dataframe tbody tr th:only-of-type {\n",
       "        vertical-align: middle;\n",
       "    }\n",
       "\n",
       "    .dataframe tbody tr th {\n",
       "        vertical-align: top;\n",
       "    }\n",
       "\n",
       "    .dataframe thead th {\n",
       "        text-align: right;\n",
       "    }\n",
       "</style>\n",
       "<table border=\"1\" class=\"dataframe\">\n",
       "  <thead>\n",
       "    <tr style=\"text-align: right;\">\n",
       "      <th></th>\n",
       "      <th>tracks_sold</th>\n",
       "      <th>tracks_sold_percent</th>\n",
       "    </tr>\n",
       "    <tr>\n",
       "      <th>genre</th>\n",
       "      <th></th>\n",
       "      <th></th>\n",
       "    </tr>\n",
       "  </thead>\n",
       "  <tbody>\n",
       "    <tr>\n",
       "      <th>TV Shows</th>\n",
       "      <td>1.0</td>\n",
       "      <td>0.095147</td>\n",
       "    </tr>\n",
       "    <tr>\n",
       "      <th>Soundtrack</th>\n",
       "      <td>2.0</td>\n",
       "      <td>0.190295</td>\n",
       "    </tr>\n",
       "    <tr>\n",
       "      <th>Heavy Metal</th>\n",
       "      <td>3.0</td>\n",
       "      <td>0.285442</td>\n",
       "    </tr>\n",
       "    <tr>\n",
       "      <th>Classical</th>\n",
       "      <td>4.0</td>\n",
       "      <td>0.380590</td>\n",
       "    </tr>\n",
       "    <tr>\n",
       "      <th>Electronica/Dance</th>\n",
       "      <td>5.0</td>\n",
       "      <td>0.475737</td>\n",
       "    </tr>\n",
       "    <tr>\n",
       "      <th>Reggae</th>\n",
       "      <td>6.0</td>\n",
       "      <td>0.570885</td>\n",
       "    </tr>\n",
       "    <tr>\n",
       "      <th>Easy Listening</th>\n",
       "      <td>13.0</td>\n",
       "      <td>1.236917</td>\n",
       "    </tr>\n",
       "    <tr>\n",
       "      <th>Jazz</th>\n",
       "      <td>14.0</td>\n",
       "      <td>1.332065</td>\n",
       "    </tr>\n",
       "    <tr>\n",
       "      <th>Hip Hop/Rap</th>\n",
       "      <td>20.0</td>\n",
       "      <td>1.902950</td>\n",
       "    </tr>\n",
       "    <tr>\n",
       "      <th>Latin</th>\n",
       "      <td>22.0</td>\n",
       "      <td>2.093245</td>\n",
       "    </tr>\n",
       "    <tr>\n",
       "      <th>Pop</th>\n",
       "      <td>22.0</td>\n",
       "      <td>2.093245</td>\n",
       "    </tr>\n",
       "    <tr>\n",
       "      <th>Alternative</th>\n",
       "      <td>35.0</td>\n",
       "      <td>3.330162</td>\n",
       "    </tr>\n",
       "    <tr>\n",
       "      <th>Blues</th>\n",
       "      <td>36.0</td>\n",
       "      <td>3.425309</td>\n",
       "    </tr>\n",
       "    <tr>\n",
       "      <th>R&amp;B/Soul</th>\n",
       "      <td>53.0</td>\n",
       "      <td>5.042816</td>\n",
       "    </tr>\n",
       "    <tr>\n",
       "      <th>Metal</th>\n",
       "      <td>124.0</td>\n",
       "      <td>11.798287</td>\n",
       "    </tr>\n",
       "    <tr>\n",
       "      <th>Alternative &amp; Punk</th>\n",
       "      <td>130.0</td>\n",
       "      <td>12.369172</td>\n",
       "    </tr>\n",
       "    <tr>\n",
       "      <th>Rock</th>\n",
       "      <td>561.0</td>\n",
       "      <td>53.377735</td>\n",
       "    </tr>\n",
       "  </tbody>\n",
       "</table>\n",
       "</div>"
      ],
      "text/plain": [
       "                    tracks_sold  tracks_sold_percent\n",
       "genre                                               \n",
       "TV Shows                    1.0             0.095147\n",
       "Soundtrack                  2.0             0.190295\n",
       "Heavy Metal                 3.0             0.285442\n",
       "Classical                   4.0             0.380590\n",
       "Electronica/Dance           5.0             0.475737\n",
       "Reggae                      6.0             0.570885\n",
       "Easy Listening             13.0             1.236917\n",
       "Jazz                       14.0             1.332065\n",
       "Hip Hop/Rap                20.0             1.902950\n",
       "Latin                      22.0             2.093245\n",
       "Pop                        22.0             2.093245\n",
       "Alternative                35.0             3.330162\n",
       "Blues                      36.0             3.425309\n",
       "R&B/Soul                   53.0             5.042816\n",
       "Metal                     124.0            11.798287\n",
       "Alternative & Punk        130.0            12.369172\n",
       "Rock                      561.0            53.377735"
      ]
     },
     "execution_count": 20,
     "metadata": {},
     "output_type": "execute_result"
    }
   ],
   "source": [
    "top_genre_us.dropna(inplace=True)\n",
    "top_genre_us.set_index('genre', inplace=True)\n",
    "top_genre_us"
   ]
  },
  {
   "cell_type": "code",
   "execution_count": 21,
   "metadata": {
    "collapsed": false
   },
   "outputs": [
    {
     "data": {
      "text/plain": [
       "<matplotlib.axes._subplots.AxesSubplot at 0x7f3d250c42b0>"
      ]
     },
     "execution_count": 21,
     "metadata": {},
     "output_type": "execute_result"
    },
    {
     "data": {
      "image/png": "[encoded data removed]",
      "text/plain": [
       "<matplotlib.figure.Figure at 0x7f3d250b74a8>"
      ]
     },
     "metadata": {},
     "output_type": "display_data"
    }
   ],
   "source": [
    "import matplotlib.cm as cm\n",
    "from matplotlib.colors import Normalize\n",
    "# get color map\n",
    "cmap = cm.get_cmap('Wistia')\n",
    "# normalize tracks_sold to [0., 1.] range\n",
    "norm = Normalize(vmin=0, vmax=561)\n",
    "norm_data = norm(top_genre_us['tracks_sold'])\n",
    "\n",
    "top_genre_us.plot.barh(legend = None, y='tracks_sold', title='Number of tracks sold in the USA', color=cmap(norm_data), figsize=(7,5))"
   ]
  },
  {
   "cell_type": "markdown",
   "metadata": {},
   "source": [
    "## Conclusions\n",
    "The data shows that a vast majority of the sales are in the Rock music genre. Assuming that the music shops needs to decide what to stock among Hip-Hop, Punk, Pop and Blues genres, since Hip-Hop is the least popular, **we recommend purchasing Punk, Pop and Blues albums.**"
   ]
  },
  {
   "cell_type": "markdown",
   "metadata": {
    "collapsed": true
   },
   "source": [
    "## Analyzing the performance of sale agents"
   ]
  },
  {
   "cell_type": "code",
   "execution_count": 79,
   "metadata": {
    "collapsed": false
   },
   "outputs": [
    {
     "data": {
      "text/html": [
       "<div>\n",
       "<style scoped>\n",
       "    .dataframe tbody tr th:only-of-type {\n",
       "        vertical-align: middle;\n",
       "    }\n",
       "\n",
       "    .dataframe tbody tr th {\n",
       "        vertical-align: top;\n",
       "    }\n",
       "\n",
       "    .dataframe thead th {\n",
       "        text-align: right;\n",
       "    }\n",
       "</style>\n",
       "<table border=\"1\" class=\"dataframe\">\n",
       "  <thead>\n",
       "    <tr style=\"text-align: right;\">\n",
       "      <th></th>\n",
       "      <th>employee_name</th>\n",
       "      <th>hire_month</th>\n",
       "      <th>hire_day</th>\n",
       "      <th>number_customers</th>\n",
       "      <th>total_sales_dollars</th>\n",
       "      <th>average_sale</th>\n",
       "      <th>sales_per_month</th>\n",
       "    </tr>\n",
       "  </thead>\n",
       "  <tbody>\n",
       "    <tr>\n",
       "      <th>0</th>\n",
       "      <td>Jane Peacock</td>\n",
       "      <td>04</td>\n",
       "      <td>01</td>\n",
       "      <td>212</td>\n",
       "      <td>1731.51</td>\n",
       "      <td>8.167500</td>\n",
       "      <td>192.39</td>\n",
       "    </tr>\n",
       "    <tr>\n",
       "      <th>1</th>\n",
       "      <td>Margaret Park</td>\n",
       "      <td>05</td>\n",
       "      <td>03</td>\n",
       "      <td>214</td>\n",
       "      <td>1584.00</td>\n",
       "      <td>7.401869</td>\n",
       "      <td>198.00</td>\n",
       "    </tr>\n",
       "    <tr>\n",
       "      <th>2</th>\n",
       "      <td>Steve Johnson</td>\n",
       "      <td>10</td>\n",
       "      <td>17</td>\n",
       "      <td>188</td>\n",
       "      <td>1393.92</td>\n",
       "      <td>7.414468</td>\n",
       "      <td>464.64</td>\n",
       "    </tr>\n",
       "  </tbody>\n",
       "</table>\n",
       "</div>"
      ],
      "text/plain": [
       "   employee_name hire_month hire_day  number_customers  total_sales_dollars  \\\n",
       "0   Jane Peacock         04       01               212              1731.51   \n",
       "1  Margaret Park         05       03               214              1584.00   \n",
       "2  Steve Johnson         10       17               188              1393.92   \n",
       "\n",
       "   average_sale  sales_per_month  \n",
       "0      8.167500           192.39  \n",
       "1      7.401869           198.00  \n",
       "2      7.414468           464.64  "
      ]
     },
     "execution_count": 79,
     "metadata": {},
     "output_type": "execute_result"
    }
   ],
   "source": [
    "# uses SUBSTR() to extract month-day from hire_date (year is always 2017, hour is set to 00:00:00)\n",
    "# the column sales_per_month assumes that the database is compiled in December 31st. If the date is different, the specific numbers will change, but the ratios between them will remain constant\n",
    "\n",
    "sales_support_agents_query = '''\n",
    "SELECT \n",
    "    e.first_name || \" \" || e.last_name AS employee_name, \n",
    "    SUBSTR(e.hire_date, 6, 2) AS hire_month, \n",
    "    SUBSTR(e.hire_date, 9, 2) AS hire_day, \n",
    "    COUNT(c.customer_id) number_customers, \n",
    "    SUM(i.total) AS total_sales_dollars, \n",
    "    SUM(i.total)/COUNT(c.customer_id) AS average_sale, \n",
    "    SUM(i.total)/(13-CAST(SUBSTR(e.hire_date, 6, 2) as Float)) AS sales_per_month \n",
    "FROM employee e \n",
    "LEFT JOIN customer c ON e.employee_id=c.support_rep_id \n",
    "LEFT JOIN invoice i ON c.customer_id=i.customer_id \n",
    "WHERE e.title='Sales Support Agent' \n",
    "GROUP BY 1 \n",
    "ORDER BY total_sales_dollars DESC \n",
    "LIMIT 10;\n",
    "'''\n",
    "sales_support_agents = run_query(sales_support_agents_query)\n",
    "sales_support_agents"
   ]
  },
  {
   "cell_type": "code",
   "execution_count": 81,
   "metadata": {
    "collapsed": false
   },
   "outputs": [],
   "source": [
    "sales_support_agents.set_index('employee_name', inplace=True)"
   ]
  },
  {
   "cell_type": "code",
   "execution_count": 56,
   "metadata": {
    "collapsed": false
   },
   "outputs": [
    {
     "data": {
      "text/plain": [
       "<matplotlib.axes._subplots.AxesSubplot at 0x7fa38dc86eb8>"
      ]
     },
     "execution_count": 56,
     "metadata": {},
     "output_type": "execute_result"
    },
    {
     "data": {
      "image/png": "[encoded data removed]",
      "text/plain": [
       "<matplotlib.figure.Figure at 0x7fa38db2aba8>"
      ]
     },
     "metadata": {},
     "output_type": "display_data"
    }
   ],
   "source": [
    "# normalize total_sales_dollars to [0., 1.] range\n",
    "norm_dol = Normalize(vmin=1393, vmax=1732)\n",
    "norm_data_dol = norm_dol(sales_support_agents['total_sales_dollars'])\n",
    "\n",
    "sales_support_agents.plot.bar(y='total_sales_dollars', rot=0, use_index=True, legend = None, title='Total sales (in dollars) of Sales Support Agents',figsize=(7,5), color = cmap(norm_data_dol))"
   ]
  },
  {
   "cell_type": "code",
   "execution_count": 82,
   "metadata": {
    "collapsed": false
   },
   "outputs": [
    {
     "data": {
      "text/plain": [
       "<matplotlib.axes._subplots.AxesSubplot at 0x7fa38dbf6198>"
      ]
     },
     "execution_count": 82,
     "metadata": {},
     "output_type": "execute_result"
    },
    {
     "data": {
      "image/png": "[encoded data removed]",
      "text/plain": [
       "<matplotlib.figure.Figure at 0x7fa38da78320>"
      ]
     },
     "metadata": {},
     "output_type": "display_data"
    }
   ],
   "source": [
    "# normalize total_sales_dollars to [0., 1.] range\n",
    "norm_dol = Normalize(vmin=192, vmax=465)\n",
    "norm_data_dol = norm_dol(sales_support_agents['sales_per_month'])\n",
    "\n",
    "sales_support_agents.plot.bar(y='sales_per_month', rot=0, use_index=True, legend = None, title='Total sales per month (in dollars) of Sales Support Agents',figsize=(7,5), color = cmap(norm_data_dol))"
   ]
  },
  {
   "cell_type": "markdown",
   "metadata": {
    "collapsed": true
   },
   "source": [
    "## Conclusions\n",
    "Jane Peacock has the most total sales and the most average sale per customer. However, Jane has also been working as a Sales Assistant for the longest and this could skew the results. \n",
    "\n",
    "When we divide the total sales by the number of months of work we obtain the sales per month metric which is insensitive to the total time an employee has been working. According to this metric, **Steve Johnson is the best Sales Assistant**."
   ]
  },
  {
   "cell_type": "markdown",
   "metadata": {
    "collapsed": true
   },
   "source": [
    "## Analysis of sale data for different countries"
   ]
  },
  {
   "cell_type": "code",
   "execution_count": 6,
   "metadata": {
    "collapsed": false
   },
   "outputs": [
    {
     "data": {
      "text/html": [
       "<div>\n",
       "<style scoped>\n",
       "    .dataframe tbody tr th:only-of-type {\n",
       "        vertical-align: middle;\n",
       "    }\n",
       "\n",
       "    .dataframe tbody tr th {\n",
       "        vertical-align: top;\n",
       "    }\n",
       "\n",
       "    .dataframe thead th {\n",
       "        text-align: right;\n",
       "    }\n",
       "</style>\n",
       "<table border=\"1\" class=\"dataframe\">\n",
       "  <thead>\n",
       "    <tr style=\"text-align: right;\">\n",
       "      <th></th>\n",
       "      <th>country</th>\n",
       "      <th>total_sales</th>\n",
       "      <th>total_customers</th>\n",
       "      <th>average_sale</th>\n",
       "      <th>average_order_value</th>\n",
       "    </tr>\n",
       "  </thead>\n",
       "  <tbody>\n",
       "    <tr>\n",
       "      <th>0</th>\n",
       "      <td>Other</td>\n",
       "      <td>1094.94</td>\n",
       "      <td>15</td>\n",
       "      <td>72.996</td>\n",
       "      <td>7.444</td>\n",
       "    </tr>\n",
       "  </tbody>\n",
       "</table>\n",
       "</div>"
      ],
      "text/plain": [
       "  country  total_sales  total_customers  average_sale  average_order_value\n",
       "0   Other      1094.94               15        72.996                7.444"
      ]
     },
     "execution_count": 6,
     "metadata": {},
     "output_type": "execute_result"
    }
   ],
   "source": [
    "# select countries with only one customer\n",
    "\n",
    "run_command('DROP VIEW single_cust')\n",
    "single_cust_countries_command = '''\n",
    "CREATE VIEW single_cust AS \n",
    "    SELECT \n",
    "        c.country, \n",
    "        SUM(i.total) AS total_sales, \n",
    "        COUNT(DISTINCT(c.customer_id)) AS total_customers, \n",
    "        ROUND(SUM(i.total)/COUNT(DISTINCT(c.customer_id)), 2) AS average_sale, \n",
    "        ROUND(SUM(i.total)/COUNT(i.invoice_id),2) average_order_value FROM customer c \n",
    "    INNER JOIN invoice i ON c.customer_id=i.customer_id \n",
    "    GROUP BY c.country HAVING total_customers=1 \n",
    "    ORDER BY total_sales DESC;\n",
    "'''\n",
    "run_command(single_cust_countries_command)\n",
    "\n",
    "single_cust_countries_query = '''\n",
    "SELECT \n",
    "    \"Other\" AS country, \n",
    "    SUM(total_sales) AS total_sales, \n",
    "    SUM(total_customers) AS total_customers, \n",
    "    AVG(average_sale) AS average_sale, \n",
    "    AVG(average_order_value) AS average_order_value \n",
    "FROM single_cust;\n",
    "'''\n",
    "run_query(single_cust_countries_query)"
   ]
  },
  {
   "cell_type": "code",
   "execution_count": 7,
   "metadata": {
    "collapsed": false
   },
   "outputs": [
    {
     "data": {
      "text/html": [
       "<div>\n",
       "<style scoped>\n",
       "    .dataframe tbody tr th:only-of-type {\n",
       "        vertical-align: middle;\n",
       "    }\n",
       "\n",
       "    .dataframe tbody tr th {\n",
       "        vertical-align: top;\n",
       "    }\n",
       "\n",
       "    .dataframe thead th {\n",
       "        text-align: right;\n",
       "    }\n",
       "</style>\n",
       "<table border=\"1\" class=\"dataframe\">\n",
       "  <thead>\n",
       "    <tr style=\"text-align: right;\">\n",
       "      <th></th>\n",
       "      <th>country</th>\n",
       "      <th>total_sales</th>\n",
       "      <th>total_customers</th>\n",
       "      <th>average_sale</th>\n",
       "      <th>average_order_value</th>\n",
       "    </tr>\n",
       "  </thead>\n",
       "  <tbody>\n",
       "    <tr>\n",
       "      <th>0</th>\n",
       "      <td>USA</td>\n",
       "      <td>1040.49</td>\n",
       "      <td>13</td>\n",
       "      <td>80.04</td>\n",
       "      <td>7.94</td>\n",
       "    </tr>\n",
       "    <tr>\n",
       "      <th>1</th>\n",
       "      <td>Canada</td>\n",
       "      <td>535.59</td>\n",
       "      <td>8</td>\n",
       "      <td>66.95</td>\n",
       "      <td>7.05</td>\n",
       "    </tr>\n",
       "    <tr>\n",
       "      <th>2</th>\n",
       "      <td>Brazil</td>\n",
       "      <td>427.68</td>\n",
       "      <td>5</td>\n",
       "      <td>85.54</td>\n",
       "      <td>7.01</td>\n",
       "    </tr>\n",
       "    <tr>\n",
       "      <th>3</th>\n",
       "      <td>France</td>\n",
       "      <td>389.07</td>\n",
       "      <td>5</td>\n",
       "      <td>77.81</td>\n",
       "      <td>7.78</td>\n",
       "    </tr>\n",
       "    <tr>\n",
       "      <th>4</th>\n",
       "      <td>Germany</td>\n",
       "      <td>334.62</td>\n",
       "      <td>4</td>\n",
       "      <td>83.66</td>\n",
       "      <td>8.16</td>\n",
       "    </tr>\n",
       "    <tr>\n",
       "      <th>5</th>\n",
       "      <td>Czech Republic</td>\n",
       "      <td>273.24</td>\n",
       "      <td>2</td>\n",
       "      <td>136.62</td>\n",
       "      <td>9.11</td>\n",
       "    </tr>\n",
       "    <tr>\n",
       "      <th>6</th>\n",
       "      <td>United Kingdom</td>\n",
       "      <td>245.52</td>\n",
       "      <td>3</td>\n",
       "      <td>81.84</td>\n",
       "      <td>8.77</td>\n",
       "    </tr>\n",
       "    <tr>\n",
       "      <th>7</th>\n",
       "      <td>Portugal</td>\n",
       "      <td>185.13</td>\n",
       "      <td>2</td>\n",
       "      <td>92.57</td>\n",
       "      <td>6.38</td>\n",
       "    </tr>\n",
       "    <tr>\n",
       "      <th>8</th>\n",
       "      <td>India</td>\n",
       "      <td>183.15</td>\n",
       "      <td>2</td>\n",
       "      <td>91.57</td>\n",
       "      <td>8.72</td>\n",
       "    </tr>\n",
       "  </tbody>\n",
       "</table>\n",
       "</div>"
      ],
      "text/plain": [
       "          country  total_sales  total_customers  average_sale  \\\n",
       "0             USA      1040.49               13         80.04   \n",
       "1          Canada       535.59                8         66.95   \n",
       "2          Brazil       427.68                5         85.54   \n",
       "3          France       389.07                5         77.81   \n",
       "4         Germany       334.62                4         83.66   \n",
       "5  Czech Republic       273.24                2        136.62   \n",
       "6  United Kingdom       245.52                3         81.84   \n",
       "7        Portugal       185.13                2         92.57   \n",
       "8           India       183.15                2         91.57   \n",
       "\n",
       "   average_order_value  \n",
       "0                 7.94  \n",
       "1                 7.05  \n",
       "2                 7.01  \n",
       "3                 7.78  \n",
       "4                 8.16  \n",
       "5                 9.11  \n",
       "6                 8.77  \n",
       "7                 6.38  \n",
       "8                 8.72  "
      ]
     },
     "execution_count": 7,
     "metadata": {},
     "output_type": "execute_result"
    }
   ],
   "source": [
    "# select countries having more than 1 customer\n",
    "\n",
    "run_command('DROP VIEW multiple_cust')\n",
    "multiple_cust_command = '''\n",
    "CREATE VIEW multiple_cust AS \n",
    "    SELECT \n",
    "        c.country, \n",
    "        SUM(i.total) AS total_sales, \n",
    "        COUNT(DISTINCT(c.customer_id)) AS total_customers, \n",
    "        ROUND(SUM(i.total)/COUNT(DISTINCT(c.customer_id)), 2) AS average_sale, \n",
    "        ROUND(SUM(i.total)/COUNT(i.invoice_id),2) average_order_value \n",
    "    FROM customer c \n",
    "    INNER JOIN invoice i ON c.customer_id=i.customer_id \n",
    "    GROUP BY c.country \n",
    "    HAVING total_customers > 1 \n",
    "    ORDER BY total_sales DESC;\n",
    "'''\n",
    "run_command(multiple_cust_command)\n",
    "\n",
    "multiple_cust = run_query('SELECT * FROM multiple_cust')\n",
    "multiple_cust"
   ]
  },
  {
   "cell_type": "code",
   "execution_count": 8,
   "metadata": {
    "collapsed": false
   },
   "outputs": [],
   "source": [
    "# create table of all countries with UNION\n",
    "run_command('DROP VIEW all_countries')\n",
    "all_countries_command = '''\n",
    "CREATE VIEW all_countries AS \n",
    "    WITH single_cust_aggr AS (\n",
    "                              SELECT \n",
    "                                  \"Other\" AS country, \n",
    "                                  SUM(total_sales) AS total_sales, \n",
    "                                  SUM(total_customers) AS total_customers, \n",
    "                                  AVG(average_sale) AS average_sale, \n",
    "                                  AVG(average_order_value) AS average_order_value \n",
    "                              FROM single_cust\n",
    "                             ) \n",
    "    SELECT * FROM multiple_cust \n",
    "    UNION \n",
    "    SELECT * FROM single_cust_aggr\n",
    "'''\n",
    "run_command(all_countries_command)"
   ]
  },
  {
   "cell_type": "code",
   "execution_count": 9,
   "metadata": {
    "collapsed": false
   },
   "outputs": [
    {
     "data": {
      "text/html": [
       "<div>\n",
       "<style scoped>\n",
       "    .dataframe tbody tr th:only-of-type {\n",
       "        vertical-align: middle;\n",
       "    }\n",
       "\n",
       "    .dataframe tbody tr th {\n",
       "        vertical-align: top;\n",
       "    }\n",
       "\n",
       "    .dataframe thead th {\n",
       "        text-align: right;\n",
       "    }\n",
       "</style>\n",
       "<table border=\"1\" class=\"dataframe\">\n",
       "  <thead>\n",
       "    <tr style=\"text-align: right;\">\n",
       "      <th></th>\n",
       "      <th>country</th>\n",
       "      <th>total_sales</th>\n",
       "      <th>total_customers</th>\n",
       "      <th>average_sale</th>\n",
       "      <th>average_order_value</th>\n",
       "    </tr>\n",
       "  </thead>\n",
       "  <tbody>\n",
       "    <tr>\n",
       "      <th>0</th>\n",
       "      <td>USA</td>\n",
       "      <td>1040.49</td>\n",
       "      <td>13</td>\n",
       "      <td>80.040</td>\n",
       "      <td>7.940</td>\n",
       "    </tr>\n",
       "    <tr>\n",
       "      <th>1</th>\n",
       "      <td>Canada</td>\n",
       "      <td>535.59</td>\n",
       "      <td>8</td>\n",
       "      <td>66.950</td>\n",
       "      <td>7.050</td>\n",
       "    </tr>\n",
       "    <tr>\n",
       "      <th>2</th>\n",
       "      <td>Brazil</td>\n",
       "      <td>427.68</td>\n",
       "      <td>5</td>\n",
       "      <td>85.540</td>\n",
       "      <td>7.010</td>\n",
       "    </tr>\n",
       "    <tr>\n",
       "      <th>3</th>\n",
       "      <td>France</td>\n",
       "      <td>389.07</td>\n",
       "      <td>5</td>\n",
       "      <td>77.810</td>\n",
       "      <td>7.780</td>\n",
       "    </tr>\n",
       "    <tr>\n",
       "      <th>4</th>\n",
       "      <td>Germany</td>\n",
       "      <td>334.62</td>\n",
       "      <td>4</td>\n",
       "      <td>83.660</td>\n",
       "      <td>8.160</td>\n",
       "    </tr>\n",
       "    <tr>\n",
       "      <th>5</th>\n",
       "      <td>Czech Republic</td>\n",
       "      <td>273.24</td>\n",
       "      <td>2</td>\n",
       "      <td>136.620</td>\n",
       "      <td>9.110</td>\n",
       "    </tr>\n",
       "    <tr>\n",
       "      <th>6</th>\n",
       "      <td>United Kingdom</td>\n",
       "      <td>245.52</td>\n",
       "      <td>3</td>\n",
       "      <td>81.840</td>\n",
       "      <td>8.770</td>\n",
       "    </tr>\n",
       "    <tr>\n",
       "      <th>7</th>\n",
       "      <td>Portugal</td>\n",
       "      <td>185.13</td>\n",
       "      <td>2</td>\n",
       "      <td>92.570</td>\n",
       "      <td>6.380</td>\n",
       "    </tr>\n",
       "    <tr>\n",
       "      <th>8</th>\n",
       "      <td>India</td>\n",
       "      <td>183.15</td>\n",
       "      <td>2</td>\n",
       "      <td>91.570</td>\n",
       "      <td>8.720</td>\n",
       "    </tr>\n",
       "    <tr>\n",
       "      <th>9</th>\n",
       "      <td>Other</td>\n",
       "      <td>1094.94</td>\n",
       "      <td>15</td>\n",
       "      <td>72.996</td>\n",
       "      <td>7.444</td>\n",
       "    </tr>\n",
       "  </tbody>\n",
       "</table>\n",
       "</div>"
      ],
      "text/plain": [
       "          country  total_sales  total_customers  average_sale  \\\n",
       "0             USA      1040.49               13        80.040   \n",
       "1          Canada       535.59                8        66.950   \n",
       "2          Brazil       427.68                5        85.540   \n",
       "3          France       389.07                5        77.810   \n",
       "4         Germany       334.62                4        83.660   \n",
       "5  Czech Republic       273.24                2       136.620   \n",
       "6  United Kingdom       245.52                3        81.840   \n",
       "7        Portugal       185.13                2        92.570   \n",
       "8           India       183.15                2        91.570   \n",
       "9           Other      1094.94               15        72.996   \n",
       "\n",
       "   average_order_value  \n",
       "0                7.940  \n",
       "1                7.050  \n",
       "2                7.010  \n",
       "3                7.780  \n",
       "4                8.160  \n",
       "5                9.110  \n",
       "6                8.770  \n",
       "7                6.380  \n",
       "8                8.720  \n",
       "9                7.444  "
      ]
     },
     "execution_count": 9,
     "metadata": {},
     "output_type": "execute_result"
    }
   ],
   "source": [
    "# use 'ORDER trick' to place \"Other\" at the bottom of the table\n",
    "\n",
    "all_countries_sorted_query = '''\n",
    "SELECT \n",
    "    country,\n",
    "    total_sales,\n",
    "    total_customers,\n",
    "    average_sale,\n",
    "    average_order_value \n",
    "FROM (\n",
    "      SELECT \n",
    "          ac.*, \n",
    "          CASE \n",
    "              WHEN ac.country=\"Other\" THEN 1 \n",
    "              ELSE 0 \n",
    "          END AS sort \n",
    "      FROM all_countries ac\n",
    "     ) acs \n",
    "ORDER BY sort ASC, total_sales DESC\n",
    "'''\n",
    "all_countries = run_query(all_countries_sorted_query)\n",
    "all_countries"
   ]
  },
  {
   "cell_type": "markdown",
   "metadata": {},
   "source": [
    "## Plotting results"
   ]
  },
  {
   "cell_type": "code",
   "execution_count": 16,
   "metadata": {
    "collapsed": false
   },
   "outputs": [
    {
     "data": {
      "image/png": "[encoded data removed]",
      "text/plain": [
       "<matplotlib.figure.Figure at 0x7f5ba18c4b38>"
      ]
     },
     "metadata": {},
     "output_type": "display_data"
    }
   ],
   "source": [
    "# summary plot that includes all the relevant information\n",
    "# size represents total_sales\n",
    "\n",
    "fig, ax = plt.subplots()\n",
    "sale_vs_order_plot = multiple_cust.plot.scatter(title='Average sale vs average order value', x='average_sale', y='average_order_value', c='total_customers', colormap=cmap, figsize =(7,5),  ax=ax, s=multiple_cust['total_sales'])\n",
    "sale_vs_order_plot.set(xlabel='Average sale', ylabel='Average order value')\n",
    "\n",
    "for i, value in enumerate(multiple_cust['country']):\n",
    "    point_coords = (multiple_cust['average_sale'].iat[i], multiple_cust['average_order_value'].iat[i])\n",
    "\n",
    "    if value==\"United Kingdom\":\n",
    "        label_coords = (multiple_cust['average_sale'].iat[i]-20, multiple_cust['average_order_value'].iat[i]-0.2)        \n",
    "    elif value==\"Czech Republic\":\n",
    "        label_coords = (multiple_cust['average_sale'].iat[i]-10, multiple_cust['average_order_value'].iat[i]-0.2)\n",
    "    else:\n",
    "        label_coords = (multiple_cust['average_sale'].iat[i]+3, multiple_cust['average_order_value'].iat[i]-0.2)    \n",
    "\n",
    "    sale_vs_order_plot.annotate(value, label_coords, xytext=label_coords)"
   ]
  },
  {
   "cell_type": "markdown",
   "metadata": {},
   "source": [
    "## Recommendation\n",
    "From the graph above, it is clear that USA, France and Canada are  saturated markets that only provide an average return. \n",
    "\n",
    "On the other hand, **the UK, India and the Czech Republic are lucrative and unexplored markets (few customers)**. \n",
    "\n",
    "Note that a low _average_\\__sale_ paired with a high _order_\\__value_ might indicate that customers in those countries are not particularly loyal to one music store."
   ]
  },
  {
   "cell_type": "markdown",
   "metadata": {
    "collapsed": true
   },
   "source": [
    "# Analysis of album purchases"
   ]
  },
  {
   "cell_type": "code",
   "execution_count": 29,
   "metadata": {
    "collapsed": false
   },
   "outputs": [],
   "source": [
    "# joins invoice and invoice_line and selects only the relevant columns from both\n",
    "run_command('DROP VIEW invoice_plus_lines')\n",
    "invoice_command = '''\n",
    "CREATE VIEW invoice_plus_lines AS \n",
    "    SELECT \n",
    "        i.invoice_id, \n",
    "        i.total, \n",
    "        il.invoice_line_id, \n",
    "        il.track_id, \n",
    "        il.unit_price, \n",
    "        il.quantity \n",
    "    FROM invoice i \n",
    "    INNER JOIN invoice_line il ON i.invoice_id=il.invoice_id\n",
    "'''\n",
    "run_command(invoice_command)"
   ]
  },
  {
   "cell_type": "code",
   "execution_count": 30,
   "metadata": {
    "collapsed": false
   },
   "outputs": [
    {
     "data": {
      "text/html": [
       "<div>\n",
       "<style scoped>\n",
       "    .dataframe tbody tr th:only-of-type {\n",
       "        vertical-align: middle;\n",
       "    }\n",
       "\n",
       "    .dataframe tbody tr th {\n",
       "        vertical-align: top;\n",
       "    }\n",
       "\n",
       "    .dataframe thead th {\n",
       "        text-align: right;\n",
       "    }\n",
       "</style>\n",
       "<table border=\"1\" class=\"dataframe\">\n",
       "  <thead>\n",
       "    <tr style=\"text-align: right;\">\n",
       "      <th></th>\n",
       "      <th>COUNT(DISTINCT(invoice_id))</th>\n",
       "    </tr>\n",
       "  </thead>\n",
       "  <tbody>\n",
       "    <tr>\n",
       "      <th>0</th>\n",
       "      <td>614</td>\n",
       "    </tr>\n",
       "  </tbody>\n",
       "</table>\n",
       "</div>"
      ],
      "text/plain": [
       "   COUNT(DISTINCT(invoice_id))\n",
       "0                          614"
      ]
     },
     "execution_count": 30,
     "metadata": {},
     "output_type": "execute_result"
    }
   ],
   "source": [
    "run_query('SELECT COUNT(DISTINCT(invoice_id)) FROM invoice_plus_lines LIMIT 10')"
   ]
  },
  {
   "cell_type": "code",
   "execution_count": 31,
   "metadata": {
    "collapsed": false
   },
   "outputs": [
    {
     "data": {
      "text/html": [
       "<div>\n",
       "<style scoped>\n",
       "    .dataframe tbody tr th:only-of-type {\n",
       "        vertical-align: middle;\n",
       "    }\n",
       "\n",
       "    .dataframe tbody tr th {\n",
       "        vertical-align: top;\n",
       "    }\n",
       "\n",
       "    .dataframe thead th {\n",
       "        text-align: right;\n",
       "    }\n",
       "</style>\n",
       "<table border=\"1\" class=\"dataframe\">\n",
       "  <thead>\n",
       "    <tr style=\"text-align: right;\">\n",
       "      <th></th>\n",
       "      <th>invoice_id</th>\n",
       "      <th>total</th>\n",
       "      <th>invoice_line_id</th>\n",
       "      <th>track_id</th>\n",
       "      <th>unit_price</th>\n",
       "      <th>quantity</th>\n",
       "    </tr>\n",
       "  </thead>\n",
       "  <tbody>\n",
       "    <tr>\n",
       "      <th>0</th>\n",
       "      <td>1</td>\n",
       "      <td>15.84</td>\n",
       "      <td>1</td>\n",
       "      <td>1158</td>\n",
       "      <td>0.99</td>\n",
       "      <td>1</td>\n",
       "    </tr>\n",
       "    <tr>\n",
       "      <th>1</th>\n",
       "      <td>1</td>\n",
       "      <td>15.84</td>\n",
       "      <td>2</td>\n",
       "      <td>1159</td>\n",
       "      <td>0.99</td>\n",
       "      <td>1</td>\n",
       "    </tr>\n",
       "    <tr>\n",
       "      <th>2</th>\n",
       "      <td>1</td>\n",
       "      <td>15.84</td>\n",
       "      <td>3</td>\n",
       "      <td>1160</td>\n",
       "      <td>0.99</td>\n",
       "      <td>1</td>\n",
       "    </tr>\n",
       "    <tr>\n",
       "      <th>3</th>\n",
       "      <td>1</td>\n",
       "      <td>15.84</td>\n",
       "      <td>4</td>\n",
       "      <td>1161</td>\n",
       "      <td>0.99</td>\n",
       "      <td>1</td>\n",
       "    </tr>\n",
       "    <tr>\n",
       "      <th>4</th>\n",
       "      <td>1</td>\n",
       "      <td>15.84</td>\n",
       "      <td>5</td>\n",
       "      <td>1162</td>\n",
       "      <td>0.99</td>\n",
       "      <td>1</td>\n",
       "    </tr>\n",
       "  </tbody>\n",
       "</table>\n",
       "</div>"
      ],
      "text/plain": [
       "   invoice_id  total  invoice_line_id  track_id  unit_price  quantity\n",
       "0           1  15.84                1      1158        0.99         1\n",
       "1           1  15.84                2      1159        0.99         1\n",
       "2           1  15.84                3      1160        0.99         1\n",
       "3           1  15.84                4      1161        0.99         1\n",
       "4           1  15.84                5      1162        0.99         1"
      ]
     },
     "execution_count": 31,
     "metadata": {},
     "output_type": "execute_result"
    }
   ],
   "source": [
    "run_query('SELECT * FROM invoice_plus_lines LIMIT 5')"
   ]
  },
  {
   "cell_type": "code",
   "execution_count": null,
   "metadata": {
    "collapsed": true
   },
   "outputs": [],
   "source": [
    "test_query = 'SELECT i.invoice_id, '\n",
    "run_query(test_query)"
   ]
  }
 ],
 "metadata": {
  "kernelspec": {
   "display_name": "Python 3",
   "language": "python",
   "name": "python3"
  },
  "language_info": {
   "codemirror_mode": {
    "name": "ipython",
    "version": 3
   },
   "file_extension": ".py",
   "mimetype": "text/x-python",
   "name": "python",
   "nbconvert_exporter": "python",
   "pygments_lexer": "ipython3",
   "version": "3.4.3"
  }
 },
 "nbformat": 4,
 "nbformat_minor": 2
}
